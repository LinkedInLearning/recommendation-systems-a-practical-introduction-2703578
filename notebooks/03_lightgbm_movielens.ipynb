{
    "cells": [
        {
            "cell_type": "markdown",
            "metadata": {},
            "source": [
                "# LightGBM: A Highly Efficient Gradient Boosting Decision Tree\n",
                "This notebook will give you an example of how to train a LightGBM model to estimate the ratings of Movielens dataset.\n",
                "\n",
                "*NOTE: This notebook is based on code from [Recommenders library](https://github.com/recommenders-team/recommenders), under MIT license.*\n",
                "\n",
                "[LightGBM](https://github.com/Microsoft/LightGBM) is a gradient boosting framework that uses tree-based learning algorithms. It is designed to be distributed and efficient with the following advantages:\n",
                "* Fast training speed and high efficiency.\n",
                "* Low memory usage.\n",
                "* Great accuracy.\n",
                "* Support of parallel and GPU learning.\n",
                "* Capable of handling large-scale data."
            ]
        },
        {
            "cell_type": "markdown",
            "metadata": {},
            "source": [
                "## 0 Global Settings and Imports"
            ]
        },
        {
            "cell_type": "code",
            "execution_count": 1,
            "metadata": {},
            "outputs": [],
            "source": [
                "import pandas as pd\n",
                "import lightgbm as lgb\n",
                "from sklearn.preprocessing import MultiLabelBinarizer\n",
                "\n",
                "from recommenders.utils.timer import Timer\n",
                "from recommenders.datasets import movielens\n",
                "from recommenders.datasets.python_splitters import python_stratified_split\n",
                "from recommenders.evaluation.python_evaluation import (\n",
                "    rmse,\n",
                "    mae,\n",
                "    rsquared,\n",
                "    exp_var\n",
                ")\n"
            ]
        },
        {
            "cell_type": "markdown",
            "metadata": {},
            "source": [
                "### 0.1 Parameter Setting\n",
                "Let's set the main related parameters for LightGBM now. Basically, the task is a regression, and we are going to use the mean average error (`MAE`) as the metric to evaluate the model.\n",
                "\n",
                "Generally, the basic parameters to adjust are the number of leaves (`MAX_LEAF`), maximum number of trees (`NUM_OF_TREES`), and the learning rate (`LEARNING_RATE`).\n",
                "\n",
                "Besides, we can also adjust some other listed parameters to optimize the results. [In this link](https://github.com/Microsoft/LightGBM/blob/master/docs/Parameters.rst), a list of all the parameters is shown. Also, some advice on how to tune these parameters can be found [in this url](https://github.com/Microsoft/LightGBM/blob/master/docs/Parameters-Tuning.rst). "
            ]
        },
        {
            "cell_type": "code",
            "execution_count": 2,
            "metadata": {
                "tags": [
                    "parameters"
                ]
            },
            "outputs": [],
            "source": [
                "# Top k items to recommend\n",
                "TOP_K = 10\n",
                "\n",
                "# Select MovieLens data size: 100k, 1m, 10m, or 20m\n",
                "MOVIELENS_DATA_SIZE = \"100k\"\n",
                "\n",
                "# Other data settings\n",
                "USER_COL = \"userID\"\n",
                "ITEM_COL = \"itemID\"\n",
                "RATING_COL = \"rating\"\n",
                "PREDICTION_COL = \"prediction\"\n",
                "ITEM_FEAT_COL = \"genre\"\n",
                "\n",
                "# Train test split ratio\n",
                "SPLIT_RATIO = 0.75\n",
                "\n",
                "# Model settings\n",
                "MAX_LEAF = 64\n",
                "NUM_OF_TREES = 100\n",
                "LEARNING_RATE = 0.05\n",
                "METRIC = \"mae\"\n",
                "\n",
                "SEED = 42"
            ]
        },
        {
            "cell_type": "code",
            "execution_count": 3,
            "metadata": {},
            "outputs": [],
            "source": [
                "params = {\n",
                "    \"objective\": \"regression\",\n",
                "    \"boosting_type\": \"gbdt\",\n",
                "    \"metric\": METRIC,\n",
                "    \"num_leaves\": MAX_LEAF,\n",
                "    \"n_estimators\": NUM_OF_TREES,\n",
                "    \"boost_from_average\": True,\n",
                "    \"n_jobs\": -1,\n",
                "    \"learning_rate\": LEARNING_RATE,\n",
                "}"
            ]
        },
        {
            "cell_type": "markdown",
            "metadata": {},
            "source": [
                "## 1 Data Preparation\n"
            ]
        },
        {
            "cell_type": "code",
            "execution_count": 4,
            "metadata": {},
            "outputs": [
                {
                    "name": "stderr",
                    "output_type": "stream",
                    "text": [
                        "100%|██████████| 4.81k/4.81k [00:16<00:00, 284KB/s]\n"
                    ]
                },
                {
                    "data": {
                        "text/html": [
                            "<div>\n",
                            "<style scoped>\n",
                            "    .dataframe tbody tr th:only-of-type {\n",
                            "        vertical-align: middle;\n",
                            "    }\n",
                            "\n",
                            "    .dataframe tbody tr th {\n",
                            "        vertical-align: top;\n",
                            "    }\n",
                            "\n",
                            "    .dataframe thead th {\n",
                            "        text-align: right;\n",
                            "    }\n",
                            "</style>\n",
                            "<table border=\"1\" class=\"dataframe\">\n",
                            "  <thead>\n",
                            "    <tr style=\"text-align: right;\">\n",
                            "      <th></th>\n",
                            "      <th>userID</th>\n",
                            "      <th>itemID</th>\n",
                            "      <th>rating</th>\n",
                            "      <th>genre</th>\n",
                            "    </tr>\n",
                            "  </thead>\n",
                            "  <tbody>\n",
                            "    <tr>\n",
                            "      <th>0</th>\n",
                            "      <td>196</td>\n",
                            "      <td>242</td>\n",
                            "      <td>3.0</td>\n",
                            "      <td>Comedy</td>\n",
                            "    </tr>\n",
                            "    <tr>\n",
                            "      <th>1</th>\n",
                            "      <td>63</td>\n",
                            "      <td>242</td>\n",
                            "      <td>3.0</td>\n",
                            "      <td>Comedy</td>\n",
                            "    </tr>\n",
                            "    <tr>\n",
                            "      <th>2</th>\n",
                            "      <td>226</td>\n",
                            "      <td>242</td>\n",
                            "      <td>5.0</td>\n",
                            "      <td>Comedy</td>\n",
                            "    </tr>\n",
                            "    <tr>\n",
                            "      <th>3</th>\n",
                            "      <td>154</td>\n",
                            "      <td>242</td>\n",
                            "      <td>3.0</td>\n",
                            "      <td>Comedy</td>\n",
                            "    </tr>\n",
                            "    <tr>\n",
                            "      <th>4</th>\n",
                            "      <td>306</td>\n",
                            "      <td>242</td>\n",
                            "      <td>5.0</td>\n",
                            "      <td>Comedy</td>\n",
                            "    </tr>\n",
                            "  </tbody>\n",
                            "</table>\n",
                            "</div>"
                        ],
                        "text/plain": [
                            "   userID  itemID  rating   genre\n",
                            "0     196     242     3.0  Comedy\n",
                            "1      63     242     3.0  Comedy\n",
                            "2     226     242     5.0  Comedy\n",
                            "3     154     242     3.0  Comedy\n",
                            "4     306     242     5.0  Comedy"
                        ]
                    },
                    "execution_count": 4,
                    "metadata": {},
                    "output_type": "execute_result"
                }
            ],
            "source": [
                "# The genres of each movie are returned as '|' separated string, e.g. \"Animation|Children's|Comedy\".\n",
                "data = movielens.load_pandas_df(\n",
                "    size=MOVIELENS_DATA_SIZE,\n",
                "    header=[USER_COL, ITEM_COL, RATING_COL],\n",
                "    genres_col=ITEM_FEAT_COL\n",
                ")\n",
                "data.head()"
            ]
        },
        {
            "cell_type": "markdown",
            "metadata": {},
            "source": [
                "#### 1.1 Encode Item Features (Genres)\n",
                "To use genres from our model, we multi-hot-encode them with scikit-learn's [MultiLabelBinarizer](https://scikit-learn.org/stable/modules/generated/sklearn.preprocessing.MultiLabelBinarizer.html).\n",
                "\n",
                "For example, *Movie id=2355* has three genres, *Animation|Children's|Comedy*, which are being converted into an integer array of the indicator value for each genre like `[0, 0, 1, 1, 1, 0, 0, 0, ...]`. In the later step, we convert this into a float array and feed into the model.\n",
                "\n",
                "> For faster feature encoding, you may load ratings and items separately (by using `movielens.load_item_df`), encode the item-features, then combine the rating and item dataframes by using join-operation. "
            ]
        },
        {
            "cell_type": "code",
            "execution_count": 5,
            "metadata": {},
            "outputs": [
                {
                    "name": "stdout",
                    "output_type": "stream",
                    "text": [
                        "Genres: ['Action' 'Adventure' 'Animation' \"Children's\" 'Comedy' 'Crime'\n",
                        " 'Documentary' 'Drama' 'Fantasy' 'Film-Noir' 'Horror' 'Musical' 'Mystery'\n",
                        " 'Romance' 'Sci-Fi' 'Thriller' 'War' 'Western' 'unknown']\n"
                    ]
                },
                {
                    "data": {
                        "text/html": [
                            "<div>\n",
                            "<style scoped>\n",
                            "    .dataframe tbody tr th:only-of-type {\n",
                            "        vertical-align: middle;\n",
                            "    }\n",
                            "\n",
                            "    .dataframe tbody tr th {\n",
                            "        vertical-align: top;\n",
                            "    }\n",
                            "\n",
                            "    .dataframe thead th {\n",
                            "        text-align: right;\n",
                            "    }\n",
                            "</style>\n",
                            "<table border=\"1\" class=\"dataframe\">\n",
                            "  <thead>\n",
                            "    <tr style=\"text-align: right;\">\n",
                            "      <th></th>\n",
                            "      <th>userID</th>\n",
                            "      <th>itemID</th>\n",
                            "      <th>rating</th>\n",
                            "      <th>genre</th>\n",
                            "    </tr>\n",
                            "  </thead>\n",
                            "  <tbody>\n",
                            "    <tr>\n",
                            "      <th>0</th>\n",
                            "      <td>196</td>\n",
                            "      <td>242</td>\n",
                            "      <td>3.0</td>\n",
                            "      <td>[0, 0, 0, 0, 1, 0, 0, 0, 0, 0, 0, 0, 0, 0, 0, ...</td>\n",
                            "    </tr>\n",
                            "    <tr>\n",
                            "      <th>1</th>\n",
                            "      <td>63</td>\n",
                            "      <td>242</td>\n",
                            "      <td>3.0</td>\n",
                            "      <td>[0, 0, 0, 0, 1, 0, 0, 0, 0, 0, 0, 0, 0, 0, 0, ...</td>\n",
                            "    </tr>\n",
                            "    <tr>\n",
                            "      <th>2</th>\n",
                            "      <td>226</td>\n",
                            "      <td>242</td>\n",
                            "      <td>5.0</td>\n",
                            "      <td>[0, 0, 0, 0, 1, 0, 0, 0, 0, 0, 0, 0, 0, 0, 0, ...</td>\n",
                            "    </tr>\n",
                            "    <tr>\n",
                            "      <th>3</th>\n",
                            "      <td>154</td>\n",
                            "      <td>242</td>\n",
                            "      <td>3.0</td>\n",
                            "      <td>[0, 0, 0, 0, 1, 0, 0, 0, 0, 0, 0, 0, 0, 0, 0, ...</td>\n",
                            "    </tr>\n",
                            "    <tr>\n",
                            "      <th>4</th>\n",
                            "      <td>306</td>\n",
                            "      <td>242</td>\n",
                            "      <td>5.0</td>\n",
                            "      <td>[0, 0, 0, 0, 1, 0, 0, 0, 0, 0, 0, 0, 0, 0, 0, ...</td>\n",
                            "    </tr>\n",
                            "  </tbody>\n",
                            "</table>\n",
                            "</div>"
                        ],
                        "text/plain": [
                            "   userID  itemID  rating                                              genre\n",
                            "0     196     242     3.0  [0, 0, 0, 0, 1, 0, 0, 0, 0, 0, 0, 0, 0, 0, 0, ...\n",
                            "1      63     242     3.0  [0, 0, 0, 0, 1, 0, 0, 0, 0, 0, 0, 0, 0, 0, 0, ...\n",
                            "2     226     242     5.0  [0, 0, 0, 0, 1, 0, 0, 0, 0, 0, 0, 0, 0, 0, 0, ...\n",
                            "3     154     242     3.0  [0, 0, 0, 0, 1, 0, 0, 0, 0, 0, 0, 0, 0, 0, 0, ...\n",
                            "4     306     242     5.0  [0, 0, 0, 0, 1, 0, 0, 0, 0, 0, 0, 0, 0, 0, 0, ..."
                        ]
                    },
                    "execution_count": 5,
                    "metadata": {},
                    "output_type": "execute_result"
                }
            ],
            "source": [
                "genres_encoder = MultiLabelBinarizer()\n",
                "data[ITEM_FEAT_COL] = genres_encoder.fit_transform(\n",
                "    data[ITEM_FEAT_COL].apply(lambda s: s.split(\"|\"))\n",
                ").tolist()\n",
                "print(\"Genres:\", genres_encoder.classes_)\n",
                "data.head()"
            ]
        },
        {
            "cell_type": "code",
            "execution_count": 6,
            "metadata": {},
            "outputs": [
                {
                    "data": {
                        "text/html": [
                            "<div>\n",
                            "<style scoped>\n",
                            "    .dataframe tbody tr th:only-of-type {\n",
                            "        vertical-align: middle;\n",
                            "    }\n",
                            "\n",
                            "    .dataframe tbody tr th {\n",
                            "        vertical-align: top;\n",
                            "    }\n",
                            "\n",
                            "    .dataframe thead th {\n",
                            "        text-align: right;\n",
                            "    }\n",
                            "</style>\n",
                            "<table border=\"1\" class=\"dataframe\">\n",
                            "  <thead>\n",
                            "    <tr style=\"text-align: right;\">\n",
                            "      <th></th>\n",
                            "      <th>userID</th>\n",
                            "      <th>itemID</th>\n",
                            "      <th>rating</th>\n",
                            "      <th>genre_1</th>\n",
                            "      <th>genre_2</th>\n",
                            "      <th>genre_3</th>\n",
                            "      <th>genre_4</th>\n",
                            "      <th>genre_5</th>\n",
                            "      <th>genre_6</th>\n",
                            "      <th>genre_7</th>\n",
                            "      <th>...</th>\n",
                            "      <th>genre_10</th>\n",
                            "      <th>genre_11</th>\n",
                            "      <th>genre_12</th>\n",
                            "      <th>genre_13</th>\n",
                            "      <th>genre_14</th>\n",
                            "      <th>genre_15</th>\n",
                            "      <th>genre_16</th>\n",
                            "      <th>genre_17</th>\n",
                            "      <th>genre_18</th>\n",
                            "      <th>genre_19</th>\n",
                            "    </tr>\n",
                            "  </thead>\n",
                            "  <tbody>\n",
                            "    <tr>\n",
                            "      <th>0</th>\n",
                            "      <td>196</td>\n",
                            "      <td>242</td>\n",
                            "      <td>3.0</td>\n",
                            "      <td>0</td>\n",
                            "      <td>0</td>\n",
                            "      <td>0</td>\n",
                            "      <td>0</td>\n",
                            "      <td>1</td>\n",
                            "      <td>0</td>\n",
                            "      <td>0</td>\n",
                            "      <td>...</td>\n",
                            "      <td>0</td>\n",
                            "      <td>0</td>\n",
                            "      <td>0</td>\n",
                            "      <td>0</td>\n",
                            "      <td>0</td>\n",
                            "      <td>0</td>\n",
                            "      <td>0</td>\n",
                            "      <td>0</td>\n",
                            "      <td>0</td>\n",
                            "      <td>0</td>\n",
                            "    </tr>\n",
                            "    <tr>\n",
                            "      <th>1</th>\n",
                            "      <td>63</td>\n",
                            "      <td>242</td>\n",
                            "      <td>3.0</td>\n",
                            "      <td>0</td>\n",
                            "      <td>0</td>\n",
                            "      <td>0</td>\n",
                            "      <td>0</td>\n",
                            "      <td>1</td>\n",
                            "      <td>0</td>\n",
                            "      <td>0</td>\n",
                            "      <td>...</td>\n",
                            "      <td>0</td>\n",
                            "      <td>0</td>\n",
                            "      <td>0</td>\n",
                            "      <td>0</td>\n",
                            "      <td>0</td>\n",
                            "      <td>0</td>\n",
                            "      <td>0</td>\n",
                            "      <td>0</td>\n",
                            "      <td>0</td>\n",
                            "      <td>0</td>\n",
                            "    </tr>\n",
                            "    <tr>\n",
                            "      <th>2</th>\n",
                            "      <td>226</td>\n",
                            "      <td>242</td>\n",
                            "      <td>5.0</td>\n",
                            "      <td>0</td>\n",
                            "      <td>0</td>\n",
                            "      <td>0</td>\n",
                            "      <td>0</td>\n",
                            "      <td>1</td>\n",
                            "      <td>0</td>\n",
                            "      <td>0</td>\n",
                            "      <td>...</td>\n",
                            "      <td>0</td>\n",
                            "      <td>0</td>\n",
                            "      <td>0</td>\n",
                            "      <td>0</td>\n",
                            "      <td>0</td>\n",
                            "      <td>0</td>\n",
                            "      <td>0</td>\n",
                            "      <td>0</td>\n",
                            "      <td>0</td>\n",
                            "      <td>0</td>\n",
                            "    </tr>\n",
                            "    <tr>\n",
                            "      <th>3</th>\n",
                            "      <td>154</td>\n",
                            "      <td>242</td>\n",
                            "      <td>3.0</td>\n",
                            "      <td>0</td>\n",
                            "      <td>0</td>\n",
                            "      <td>0</td>\n",
                            "      <td>0</td>\n",
                            "      <td>1</td>\n",
                            "      <td>0</td>\n",
                            "      <td>0</td>\n",
                            "      <td>...</td>\n",
                            "      <td>0</td>\n",
                            "      <td>0</td>\n",
                            "      <td>0</td>\n",
                            "      <td>0</td>\n",
                            "      <td>0</td>\n",
                            "      <td>0</td>\n",
                            "      <td>0</td>\n",
                            "      <td>0</td>\n",
                            "      <td>0</td>\n",
                            "      <td>0</td>\n",
                            "    </tr>\n",
                            "    <tr>\n",
                            "      <th>4</th>\n",
                            "      <td>306</td>\n",
                            "      <td>242</td>\n",
                            "      <td>5.0</td>\n",
                            "      <td>0</td>\n",
                            "      <td>0</td>\n",
                            "      <td>0</td>\n",
                            "      <td>0</td>\n",
                            "      <td>1</td>\n",
                            "      <td>0</td>\n",
                            "      <td>0</td>\n",
                            "      <td>...</td>\n",
                            "      <td>0</td>\n",
                            "      <td>0</td>\n",
                            "      <td>0</td>\n",
                            "      <td>0</td>\n",
                            "      <td>0</td>\n",
                            "      <td>0</td>\n",
                            "      <td>0</td>\n",
                            "      <td>0</td>\n",
                            "      <td>0</td>\n",
                            "      <td>0</td>\n",
                            "    </tr>\n",
                            "  </tbody>\n",
                            "</table>\n",
                            "<p>5 rows × 22 columns</p>\n",
                            "</div>"
                        ],
                        "text/plain": [
                            "   userID  itemID  rating  genre_1  genre_2  genre_3  genre_4  genre_5  \\\n",
                            "0     196     242     3.0        0        0        0        0        1   \n",
                            "1      63     242     3.0        0        0        0        0        1   \n",
                            "2     226     242     5.0        0        0        0        0        1   \n",
                            "3     154     242     3.0        0        0        0        0        1   \n",
                            "4     306     242     5.0        0        0        0        0        1   \n",
                            "\n",
                            "   genre_6  genre_7  ...  genre_10  genre_11  genre_12  genre_13  genre_14  \\\n",
                            "0        0        0  ...         0         0         0         0         0   \n",
                            "1        0        0  ...         0         0         0         0         0   \n",
                            "2        0        0  ...         0         0         0         0         0   \n",
                            "3        0        0  ...         0         0         0         0         0   \n",
                            "4        0        0  ...         0         0         0         0         0   \n",
                            "\n",
                            "   genre_15  genre_16  genre_17  genre_18  genre_19  \n",
                            "0         0         0         0         0         0  \n",
                            "1         0         0         0         0         0  \n",
                            "2         0         0         0         0         0  \n",
                            "3         0         0         0         0         0  \n",
                            "4         0         0         0         0         0  \n",
                            "\n",
                            "[5 rows x 22 columns]"
                        ]
                    },
                    "execution_count": 6,
                    "metadata": {},
                    "output_type": "execute_result"
                }
            ],
            "source": [
                "# Expand the 'genre' list into separate columns\n",
                "number_of_genres = len(genres_encoder.classes_)\n",
                "expanded_genre = pd.DataFrame(data[ITEM_FEAT_COL].tolist(), columns=[f\"{ITEM_FEAT_COL}_{i+1}\" for i in range(number_of_genres)])\n",
                "\n",
                "# Concatenate the expanded genre columns with the original DataFrame\n",
                "data = pd.concat([data, expanded_genre], axis=1)\n",
                "\n",
                "# Drop the original 'genre' column\n",
                "data.drop(ITEM_FEAT_COL, axis=1, inplace=True)\n",
                "data.head()"
            ]
        },
        {
            "cell_type": "markdown",
            "metadata": {},
            "source": [
                "### 1.2 Split the data using the python random splitter provided in utilities:\n",
                "\n",
                "We split the full dataset into a `train` and `test` dataset to evaluate performance of the algorithm against a held-out set not seen during training. Because SAR generates recommendations based on user preferences, all users that are in the test set must also exist in the training set. For this case, we can use the provided `python_stratified_split` function which holds out a percentage (in this case 25%) of items from each user, but ensures all users are in both `train` and `test` datasets. Other options are available in the `dataset.python_splitters` module which provide more control over how the split occurs."
            ]
        },
        {
            "cell_type": "code",
            "execution_count": 7,
            "metadata": {},
            "outputs": [],
            "source": [
                "train, test = python_stratified_split(data, ratio=SPLIT_RATIO, col_user=USER_COL, col_item=ITEM_COL, seed=SEED)"
            ]
        },
        {
            "cell_type": "code",
            "execution_count": 8,
            "metadata": {},
            "outputs": [
                {
                    "name": "stdout",
                    "output_type": "stream",
                    "text": [
                        "\n",
                        "Train:\n",
                        "Total Ratings: 74992\n",
                        "Unique Users: 943\n",
                        "Unique Items: 1646\n",
                        "\n",
                        "Test:\n",
                        "Total Ratings: 25008\n",
                        "Unique Users: 943\n",
                        "Unique Items: 1451\n",
                        "\n"
                    ]
                }
            ],
            "source": [
                "print(\"\"\"\n",
                "Train:\n",
                "Total Ratings: {train_total}\n",
                "Unique Users: {train_users}\n",
                "Unique Items: {train_items}\n",
                "\n",
                "Test:\n",
                "Total Ratings: {test_total}\n",
                "Unique Users: {test_users}\n",
                "Unique Items: {test_items}\n",
                "\"\"\".format(\n",
                "    train_total=len(train),\n",
                "    train_users=len(train[USER_COL].unique()),\n",
                "    train_items=len(train[ITEM_COL].unique()),\n",
                "    test_total=len(test),\n",
                "    test_users=len(test[USER_COL].unique()),\n",
                "    test_items=len(test[ITEM_COL].unique()),\n",
                "))"
            ]
        },
        {
            "cell_type": "markdown",
            "metadata": {},
            "source": [
                "## 2 Train the LightGBM Model\n"
            ]
        },
        {
            "cell_type": "code",
            "execution_count": 9,
            "metadata": {},
            "outputs": [],
            "source": [
                "lgb_regressor = lgb.LGBMRegressor(**params)\n"
            ]
        },
        {
            "cell_type": "code",
            "execution_count": 10,
            "metadata": {},
            "outputs": [
                {
                    "name": "stdout",
                    "output_type": "stream",
                    "text": [
                        "Took 113.83255609998014 seconds for training.\n"
                    ]
                }
            ],
            "source": [
                "with Timer() as train_time:\n",
                "    lgb_regressor.fit(\n",
                "        X=train[train.columns.difference([RATING_COL])].values, \n",
                "        y=train[RATING_COL].values,\n",
                "    )\n",
                "\n",
                "print(f\"Took {train_time.interval} seconds for training.\")"
            ]
        },
        {
            "cell_type": "markdown",
            "metadata": {},
            "source": [
                "## 3 Evaluate the model"
            ]
        },
        {
            "cell_type": "code",
            "execution_count": 11,
            "metadata": {},
            "outputs": [
                {
                    "name": "stdout",
                    "output_type": "stream",
                    "text": [
                        "Took 0.3662549000000581 seconds for prediction.\n"
                    ]
                }
            ],
            "source": [
                "# Evaluate the Model\n",
                "with Timer() as test_time:\n",
                "    y_pred = lgb_regressor.predict(test[test.columns.difference([RATING_COL])])\n",
                "\n",
                "print(f\"Took {test_time.interval} seconds for prediction.\")"
            ]
        },
        {
            "cell_type": "code",
            "execution_count": 12,
            "metadata": {},
            "outputs": [
                {
                    "data": {
                        "text/html": [
                            "<div>\n",
                            "<style scoped>\n",
                            "    .dataframe tbody tr th:only-of-type {\n",
                            "        vertical-align: middle;\n",
                            "    }\n",
                            "\n",
                            "    .dataframe tbody tr th {\n",
                            "        vertical-align: top;\n",
                            "    }\n",
                            "\n",
                            "    .dataframe thead th {\n",
                            "        text-align: right;\n",
                            "    }\n",
                            "</style>\n",
                            "<table border=\"1\" class=\"dataframe\">\n",
                            "  <thead>\n",
                            "    <tr style=\"text-align: right;\">\n",
                            "      <th></th>\n",
                            "      <th>userID</th>\n",
                            "      <th>itemID</th>\n",
                            "      <th>rating</th>\n",
                            "      <th>prediction</th>\n",
                            "    </tr>\n",
                            "  </thead>\n",
                            "  <tbody>\n",
                            "    <tr>\n",
                            "      <th>26975</th>\n",
                            "      <td>1</td>\n",
                            "      <td>48</td>\n",
                            "      <td>5.0</td>\n",
                            "      <td>3.905406</td>\n",
                            "    </tr>\n",
                            "    <tr>\n",
                            "      <th>87870</th>\n",
                            "      <td>1</td>\n",
                            "      <td>149</td>\n",
                            "      <td>2.0</td>\n",
                            "      <td>3.861776</td>\n",
                            "    </tr>\n",
                            "    <tr>\n",
                            "      <th>83701</th>\n",
                            "      <td>1</td>\n",
                            "      <td>103</td>\n",
                            "      <td>1.0</td>\n",
                            "      <td>2.700646</td>\n",
                            "    </tr>\n",
                            "    <tr>\n",
                            "      <th>60240</th>\n",
                            "      <td>1</td>\n",
                            "      <td>49</td>\n",
                            "      <td>3.0</td>\n",
                            "      <td>3.546311</td>\n",
                            "    </tr>\n",
                            "    <tr>\n",
                            "      <th>5678</th>\n",
                            "      <td>1</td>\n",
                            "      <td>194</td>\n",
                            "      <td>4.0</td>\n",
                            "      <td>3.947219</td>\n",
                            "    </tr>\n",
                            "  </tbody>\n",
                            "</table>\n",
                            "</div>"
                        ],
                        "text/plain": [
                            "       userID  itemID  rating  prediction\n",
                            "26975       1      48     5.0    3.905406\n",
                            "87870       1     149     2.0    3.861776\n",
                            "83701       1     103     1.0    2.700646\n",
                            "60240       1      49     3.0    3.546311\n",
                            "5678        1     194     4.0    3.947219"
                        ]
                    },
                    "execution_count": 12,
                    "metadata": {},
                    "output_type": "execute_result"
                }
            ],
            "source": [
                "pred = test[[USER_COL, ITEM_COL, RATING_COL]].copy()\n",
                "pred[PREDICTION_COL] = y_pred\n",
                "pred.head()"
            ]
        },
        {
            "cell_type": "code",
            "execution_count": 13,
            "metadata": {},
            "outputs": [],
            "source": [
                "# Rating metrics\n",
                "eval_rmse = rmse(test, pred, col_user=USER_COL, col_item=ITEM_COL, col_rating=RATING_COL, col_prediction=PREDICTION_COL)\n",
                "eval_mae = mae(test, pred, col_user=USER_COL, col_item=ITEM_COL, col_rating=RATING_COL, col_prediction=PREDICTION_COL)\n",
                "eval_rsquared = rsquared(test, pred, col_user=USER_COL, col_item=ITEM_COL, col_rating=RATING_COL, col_prediction=PREDICTION_COL)\n",
                "eval_exp_var = exp_var(test, pred, col_user=USER_COL, col_item=ITEM_COL, col_rating=RATING_COL, col_prediction=PREDICTION_COL)\n"
            ]
        },
        {
            "cell_type": "code",
            "execution_count": 14,
            "metadata": {},
            "outputs": [
                {
                    "name": "stdout",
                    "output_type": "stream",
                    "text": [
                        "Model:\t\tLightGBM\n",
                        "RMSE:\t\t1.001431\n",
                        "MAE:\t\t0.804058\n",
                        "R2:\t\t0.206897\n",
                        "Exp var:\t0.206919\n"
                    ]
                }
            ],
            "source": [
                "print(\"Model:\\t\\tLightGBM\",\n",
                "      \"RMSE:\\t\\t%f\" % eval_rmse,\n",
                "      \"MAE:\\t\\t%f\" % eval_mae,\n",
                "      \"R2:\\t\\t%f\" % eval_rsquared,\n",
                "      \"Exp var:\\t%f\" % eval_exp_var,\n",
                "      sep='\\n')"
            ]
        },
        {
            "cell_type": "markdown",
            "metadata": {},
            "source": [
                "## Additional Reading\n",
                "\n",
                "\\[1\\] Guolin Ke, Qi Meng, Thomas Finley, Taifeng Wang, Wei Chen, Weidong Ma, Qiwei Ye, and Tie-Yan Liu. 2017. LightGBM: A highly efficient gradient boosting decision tree. In Advances in Neural Information Processing Systems. 3146–3154.<br>\n",
                "\\[2\\] The parameters of LightGBM: https://github.com/Microsoft/LightGBM/blob/master/docs/Parameters.rst <br>\n"
            ]
        }
    ],
    "metadata": {
        "celltoolbar": "Tags",
        "kernelspec": {
            "display_name": "Python 3 (ipykernel)",
            "language": "python",
            "name": "python3"
        },
        "language_info": {
            "codemirror_mode": {
                "name": "ipython",
                "version": 3
            },
            "file_extension": ".py",
            "mimetype": "text/x-python",
            "name": "python",
            "nbconvert_exporter": "python",
            "pygments_lexer": "ipython3",
            "version": "3.9.16"
        }
    },
    "nbformat": 4,
    "nbformat_minor": 2
}
